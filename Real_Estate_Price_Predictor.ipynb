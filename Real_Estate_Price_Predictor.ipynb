{
  "nbformat": 4,
  "nbformat_minor": 0,
  "metadata": {
    "colab": {
      "name": "Real Estate Price Predictor.ipynb",
      "provenance": [],
      "collapsed_sections": []
    },
    "kernelspec": {
      "name": "python3",
      "display_name": "Python 3"
    }
  },
  "cells": [
    {
      "cell_type": "markdown",
      "metadata": {
        "id": "IS3xb4NF3J5d",
        "colab_type": "text"
      },
      "source": [
        "# **Real Estate Price Predictor**"
      ]
    },
    {
      "cell_type": "code",
      "metadata": {
        "id": "ly5ZOmxY3V2H",
        "colab_type": "code",
        "colab": {}
      },
      "source": [
        "import pandas as pd"
      ],
      "execution_count": 586,
      "outputs": []
    },
    {
      "cell_type": "code",
      "metadata": {
        "id": "nqqQes7PQStG",
        "colab_type": "code",
        "colab": {}
      },
      "source": [
        "import matplotlib.pyplot as plt"
      ],
      "execution_count": 587,
      "outputs": []
    },
    {
      "cell_type": "code",
      "metadata": {
        "id": "HYkqMwtI91VQ",
        "colab_type": "code",
        "colab": {}
      },
      "source": [
        "housing = pd.read_csv(\"data3.CSV\")"
      ],
      "execution_count": 588,
      "outputs": []
    },
    {
      "cell_type": "code",
      "metadata": {
        "id": "2djzsD9hNazZ",
        "colab_type": "code",
        "colab": {
          "base_uri": "https://localhost:8080/",
          "height": 204
        },
        "outputId": "ec756d46-5307-4d34-e95c-5f2bad122f80"
      },
      "source": [
        "housing.head()"
      ],
      "execution_count": 589,
      "outputs": [
        {
          "output_type": "execute_result",
          "data": {
            "text/html": [
              "<div>\n",
              "<style scoped>\n",
              "    .dataframe tbody tr th:only-of-type {\n",
              "        vertical-align: middle;\n",
              "    }\n",
              "\n",
              "    .dataframe tbody tr th {\n",
              "        vertical-align: top;\n",
              "    }\n",
              "\n",
              "    .dataframe thead th {\n",
              "        text-align: right;\n",
              "    }\n",
              "</style>\n",
              "<table border=\"1\" class=\"dataframe\">\n",
              "  <thead>\n",
              "    <tr style=\"text-align: right;\">\n",
              "      <th></th>\n",
              "      <th>CRIM</th>\n",
              "      <th>ZN</th>\n",
              "      <th>INDUS</th>\n",
              "      <th>CHAS</th>\n",
              "      <th>NOX</th>\n",
              "      <th>RM</th>\n",
              "      <th>AGE</th>\n",
              "      <th>DIS</th>\n",
              "      <th>RAD</th>\n",
              "      <th>TAX</th>\n",
              "      <th>PTRATIO</th>\n",
              "      <th>B</th>\n",
              "      <th>LSTAT</th>\n",
              "      <th>MEDV</th>\n",
              "      <th>Unnamed: 14</th>\n",
              "      <th>Unnamed: 15</th>\n",
              "      <th>Unnamed: 16</th>\n",
              "      <th>Unnamed: 17</th>\n",
              "      <th>Unnamed: 18</th>\n",
              "    </tr>\n",
              "  </thead>\n",
              "  <tbody>\n",
              "    <tr>\n",
              "      <th>0</th>\n",
              "      <td>0.00632</td>\n",
              "      <td>18.0</td>\n",
              "      <td>2.31</td>\n",
              "      <td>0</td>\n",
              "      <td>0.538</td>\n",
              "      <td>6.575</td>\n",
              "      <td>65.2</td>\n",
              "      <td>4.0900</td>\n",
              "      <td>1</td>\n",
              "      <td>296</td>\n",
              "      <td>15.3</td>\n",
              "      <td>396.90</td>\n",
              "      <td>4.98</td>\n",
              "      <td>24.0</td>\n",
              "      <td>NaN</td>\n",
              "      <td>NaN</td>\n",
              "      <td>NaN</td>\n",
              "      <td>NaN</td>\n",
              "      <td>NaN</td>\n",
              "    </tr>\n",
              "    <tr>\n",
              "      <th>1</th>\n",
              "      <td>0.02731</td>\n",
              "      <td>0.0</td>\n",
              "      <td>7.07</td>\n",
              "      <td>0</td>\n",
              "      <td>0.469</td>\n",
              "      <td>6.421</td>\n",
              "      <td>78.9</td>\n",
              "      <td>4.9671</td>\n",
              "      <td>2</td>\n",
              "      <td>242</td>\n",
              "      <td>17.8</td>\n",
              "      <td>396.90</td>\n",
              "      <td>9.14</td>\n",
              "      <td>21.6</td>\n",
              "      <td>NaN</td>\n",
              "      <td>NaN</td>\n",
              "      <td>NaN</td>\n",
              "      <td>NaN</td>\n",
              "      <td>NaN</td>\n",
              "    </tr>\n",
              "    <tr>\n",
              "      <th>2</th>\n",
              "      <td>0.02729</td>\n",
              "      <td>0.0</td>\n",
              "      <td>7.07</td>\n",
              "      <td>0</td>\n",
              "      <td>0.469</td>\n",
              "      <td>7.185</td>\n",
              "      <td>61.1</td>\n",
              "      <td>4.9671</td>\n",
              "      <td>2</td>\n",
              "      <td>242</td>\n",
              "      <td>17.8</td>\n",
              "      <td>392.83</td>\n",
              "      <td>4.03</td>\n",
              "      <td>34.7</td>\n",
              "      <td>NaN</td>\n",
              "      <td>NaN</td>\n",
              "      <td>NaN</td>\n",
              "      <td>NaN</td>\n",
              "      <td>NaN</td>\n",
              "    </tr>\n",
              "    <tr>\n",
              "      <th>3</th>\n",
              "      <td>0.03237</td>\n",
              "      <td>0.0</td>\n",
              "      <td>2.18</td>\n",
              "      <td>0</td>\n",
              "      <td>0.458</td>\n",
              "      <td>6.998</td>\n",
              "      <td>45.8</td>\n",
              "      <td>6.0622</td>\n",
              "      <td>3</td>\n",
              "      <td>222</td>\n",
              "      <td>18.7</td>\n",
              "      <td>394.63</td>\n",
              "      <td>2.94</td>\n",
              "      <td>33.4</td>\n",
              "      <td>NaN</td>\n",
              "      <td>NaN</td>\n",
              "      <td>NaN</td>\n",
              "      <td>NaN</td>\n",
              "      <td>NaN</td>\n",
              "    </tr>\n",
              "    <tr>\n",
              "      <th>4</th>\n",
              "      <td>0.06905</td>\n",
              "      <td>0.0</td>\n",
              "      <td>2.18</td>\n",
              "      <td>0</td>\n",
              "      <td>0.458</td>\n",
              "      <td>7.147</td>\n",
              "      <td>54.2</td>\n",
              "      <td>6.0622</td>\n",
              "      <td>3</td>\n",
              "      <td>222</td>\n",
              "      <td>18.7</td>\n",
              "      <td>396.90</td>\n",
              "      <td>5.33</td>\n",
              "      <td>36.2</td>\n",
              "      <td>NaN</td>\n",
              "      <td>NaN</td>\n",
              "      <td>NaN</td>\n",
              "      <td>NaN</td>\n",
              "      <td>NaN</td>\n",
              "    </tr>\n",
              "  </tbody>\n",
              "</table>\n",
              "</div>"
            ],
            "text/plain": [
              "      CRIM    ZN  INDUS  ...  Unnamed: 16  Unnamed: 17  Unnamed: 18\n",
              "0  0.00632  18.0   2.31  ...          NaN          NaN          NaN\n",
              "1  0.02731   0.0   7.07  ...          NaN          NaN          NaN\n",
              "2  0.02729   0.0   7.07  ...          NaN          NaN          NaN\n",
              "3  0.03237   0.0   2.18  ...          NaN          NaN          NaN\n",
              "4  0.06905   0.0   2.18  ...          NaN          NaN          NaN\n",
              "\n",
              "[5 rows x 19 columns]"
            ]
          },
          "metadata": {
            "tags": []
          },
          "execution_count": 589
        }
      ]
    },
    {
      "cell_type": "code",
      "metadata": {
        "id": "L4u3uKdxN39R",
        "colab_type": "code",
        "colab": {
          "base_uri": "https://localhost:8080/",
          "height": 459
        },
        "outputId": "57f84857-6ed6-4f5f-de92-bdfde58ebe59"
      },
      "source": [
        "housing.info()"
      ],
      "execution_count": 590,
      "outputs": [
        {
          "output_type": "stream",
          "text": [
            "<class 'pandas.core.frame.DataFrame'>\n",
            "RangeIndex: 506 entries, 0 to 505\n",
            "Data columns (total 19 columns):\n",
            " #   Column       Non-Null Count  Dtype  \n",
            "---  ------       --------------  -----  \n",
            " 0   CRIM         506 non-null    float64\n",
            " 1   ZN           506 non-null    float64\n",
            " 2   INDUS        506 non-null    float64\n",
            " 3   CHAS         506 non-null    int64  \n",
            " 4   NOX          506 non-null    float64\n",
            " 5   RM           506 non-null    float64\n",
            " 6   AGE          506 non-null    float64\n",
            " 7   DIS          506 non-null    float64\n",
            " 8   RAD          506 non-null    int64  \n",
            " 9   TAX          506 non-null    int64  \n",
            " 10  PTRATIO      506 non-null    float64\n",
            " 11  B            506 non-null    float64\n",
            " 12  LSTAT        506 non-null    float64\n",
            " 13  MEDV         506 non-null    float64\n",
            " 14  Unnamed: 14  0 non-null      float64\n",
            " 15  Unnamed: 15  0 non-null      float64\n",
            " 16  Unnamed: 16  0 non-null      float64\n",
            " 17  Unnamed: 17  0 non-null      float64\n",
            " 18  Unnamed: 18  0 non-null      float64\n",
            "dtypes: float64(16), int64(3)\n",
            "memory usage: 75.2 KB\n"
          ],
          "name": "stdout"
        }
      ]
    },
    {
      "cell_type": "code",
      "metadata": {
        "id": "HatR78vkOS86",
        "colab_type": "code",
        "colab": {
          "base_uri": "https://localhost:8080/",
          "height": 68
        },
        "outputId": "f14ffebc-7c6d-4249-9d86-c91bef832001"
      },
      "source": [
        "housing[\"CHAS\"].value_counts()"
      ],
      "execution_count": 591,
      "outputs": [
        {
          "output_type": "execute_result",
          "data": {
            "text/plain": [
              "0    471\n",
              "1     35\n",
              "Name: CHAS, dtype: int64"
            ]
          },
          "metadata": {
            "tags": []
          },
          "execution_count": 591
        }
      ]
    },
    {
      "cell_type": "code",
      "metadata": {
        "id": "CBY1ng_kOz39",
        "colab_type": "code",
        "colab": {
          "base_uri": "https://localhost:8080/",
          "height": 297
        },
        "outputId": "02af448e-a412-49b7-d832-0d68458a62c0"
      },
      "source": [
        "housing.describe()"
      ],
      "execution_count": 592,
      "outputs": [
        {
          "output_type": "execute_result",
          "data": {
            "text/html": [
              "<div>\n",
              "<style scoped>\n",
              "    .dataframe tbody tr th:only-of-type {\n",
              "        vertical-align: middle;\n",
              "    }\n",
              "\n",
              "    .dataframe tbody tr th {\n",
              "        vertical-align: top;\n",
              "    }\n",
              "\n",
              "    .dataframe thead th {\n",
              "        text-align: right;\n",
              "    }\n",
              "</style>\n",
              "<table border=\"1\" class=\"dataframe\">\n",
              "  <thead>\n",
              "    <tr style=\"text-align: right;\">\n",
              "      <th></th>\n",
              "      <th>CRIM</th>\n",
              "      <th>ZN</th>\n",
              "      <th>INDUS</th>\n",
              "      <th>CHAS</th>\n",
              "      <th>NOX</th>\n",
              "      <th>RM</th>\n",
              "      <th>AGE</th>\n",
              "      <th>DIS</th>\n",
              "      <th>RAD</th>\n",
              "      <th>TAX</th>\n",
              "      <th>PTRATIO</th>\n",
              "      <th>B</th>\n",
              "      <th>LSTAT</th>\n",
              "      <th>MEDV</th>\n",
              "      <th>Unnamed: 14</th>\n",
              "      <th>Unnamed: 15</th>\n",
              "      <th>Unnamed: 16</th>\n",
              "      <th>Unnamed: 17</th>\n",
              "      <th>Unnamed: 18</th>\n",
              "    </tr>\n",
              "  </thead>\n",
              "  <tbody>\n",
              "    <tr>\n",
              "      <th>count</th>\n",
              "      <td>506.000000</td>\n",
              "      <td>506.000000</td>\n",
              "      <td>506.000000</td>\n",
              "      <td>506.000000</td>\n",
              "      <td>506.000000</td>\n",
              "      <td>506.000000</td>\n",
              "      <td>506.000000</td>\n",
              "      <td>506.000000</td>\n",
              "      <td>506.000000</td>\n",
              "      <td>506.000000</td>\n",
              "      <td>506.000000</td>\n",
              "      <td>506.000000</td>\n",
              "      <td>506.000000</td>\n",
              "      <td>506.000000</td>\n",
              "      <td>0.0</td>\n",
              "      <td>0.0</td>\n",
              "      <td>0.0</td>\n",
              "      <td>0.0</td>\n",
              "      <td>0.0</td>\n",
              "    </tr>\n",
              "    <tr>\n",
              "      <th>mean</th>\n",
              "      <td>3.613524</td>\n",
              "      <td>11.363636</td>\n",
              "      <td>11.136779</td>\n",
              "      <td>0.069170</td>\n",
              "      <td>0.554695</td>\n",
              "      <td>6.284634</td>\n",
              "      <td>68.574901</td>\n",
              "      <td>3.795043</td>\n",
              "      <td>9.549407</td>\n",
              "      <td>408.237154</td>\n",
              "      <td>18.455534</td>\n",
              "      <td>356.674032</td>\n",
              "      <td>12.653063</td>\n",
              "      <td>22.532806</td>\n",
              "      <td>NaN</td>\n",
              "      <td>NaN</td>\n",
              "      <td>NaN</td>\n",
              "      <td>NaN</td>\n",
              "      <td>NaN</td>\n",
              "    </tr>\n",
              "    <tr>\n",
              "      <th>std</th>\n",
              "      <td>8.601545</td>\n",
              "      <td>23.322453</td>\n",
              "      <td>6.860353</td>\n",
              "      <td>0.253994</td>\n",
              "      <td>0.115878</td>\n",
              "      <td>0.702617</td>\n",
              "      <td>28.148861</td>\n",
              "      <td>2.105710</td>\n",
              "      <td>8.707259</td>\n",
              "      <td>168.537116</td>\n",
              "      <td>2.164946</td>\n",
              "      <td>91.294864</td>\n",
              "      <td>7.141062</td>\n",
              "      <td>9.197104</td>\n",
              "      <td>NaN</td>\n",
              "      <td>NaN</td>\n",
              "      <td>NaN</td>\n",
              "      <td>NaN</td>\n",
              "      <td>NaN</td>\n",
              "    </tr>\n",
              "    <tr>\n",
              "      <th>min</th>\n",
              "      <td>0.006320</td>\n",
              "      <td>0.000000</td>\n",
              "      <td>0.460000</td>\n",
              "      <td>0.000000</td>\n",
              "      <td>0.385000</td>\n",
              "      <td>3.561000</td>\n",
              "      <td>2.900000</td>\n",
              "      <td>1.129600</td>\n",
              "      <td>1.000000</td>\n",
              "      <td>187.000000</td>\n",
              "      <td>12.600000</td>\n",
              "      <td>0.320000</td>\n",
              "      <td>1.730000</td>\n",
              "      <td>5.000000</td>\n",
              "      <td>NaN</td>\n",
              "      <td>NaN</td>\n",
              "      <td>NaN</td>\n",
              "      <td>NaN</td>\n",
              "      <td>NaN</td>\n",
              "    </tr>\n",
              "    <tr>\n",
              "      <th>25%</th>\n",
              "      <td>0.082045</td>\n",
              "      <td>0.000000</td>\n",
              "      <td>5.190000</td>\n",
              "      <td>0.000000</td>\n",
              "      <td>0.449000</td>\n",
              "      <td>5.885500</td>\n",
              "      <td>45.025000</td>\n",
              "      <td>2.100175</td>\n",
              "      <td>4.000000</td>\n",
              "      <td>279.000000</td>\n",
              "      <td>17.400000</td>\n",
              "      <td>375.377500</td>\n",
              "      <td>6.950000</td>\n",
              "      <td>17.025000</td>\n",
              "      <td>NaN</td>\n",
              "      <td>NaN</td>\n",
              "      <td>NaN</td>\n",
              "      <td>NaN</td>\n",
              "      <td>NaN</td>\n",
              "    </tr>\n",
              "    <tr>\n",
              "      <th>50%</th>\n",
              "      <td>0.256510</td>\n",
              "      <td>0.000000</td>\n",
              "      <td>9.690000</td>\n",
              "      <td>0.000000</td>\n",
              "      <td>0.538000</td>\n",
              "      <td>6.208500</td>\n",
              "      <td>77.500000</td>\n",
              "      <td>3.207450</td>\n",
              "      <td>5.000000</td>\n",
              "      <td>330.000000</td>\n",
              "      <td>19.050000</td>\n",
              "      <td>391.440000</td>\n",
              "      <td>11.360000</td>\n",
              "      <td>21.200000</td>\n",
              "      <td>NaN</td>\n",
              "      <td>NaN</td>\n",
              "      <td>NaN</td>\n",
              "      <td>NaN</td>\n",
              "      <td>NaN</td>\n",
              "    </tr>\n",
              "    <tr>\n",
              "      <th>75%</th>\n",
              "      <td>3.677082</td>\n",
              "      <td>12.500000</td>\n",
              "      <td>18.100000</td>\n",
              "      <td>0.000000</td>\n",
              "      <td>0.624000</td>\n",
              "      <td>6.623500</td>\n",
              "      <td>94.075000</td>\n",
              "      <td>5.188425</td>\n",
              "      <td>24.000000</td>\n",
              "      <td>666.000000</td>\n",
              "      <td>20.200000</td>\n",
              "      <td>396.225000</td>\n",
              "      <td>16.955000</td>\n",
              "      <td>25.000000</td>\n",
              "      <td>NaN</td>\n",
              "      <td>NaN</td>\n",
              "      <td>NaN</td>\n",
              "      <td>NaN</td>\n",
              "      <td>NaN</td>\n",
              "    </tr>\n",
              "    <tr>\n",
              "      <th>max</th>\n",
              "      <td>88.976200</td>\n",
              "      <td>100.000000</td>\n",
              "      <td>27.740000</td>\n",
              "      <td>1.000000</td>\n",
              "      <td>0.871000</td>\n",
              "      <td>8.780000</td>\n",
              "      <td>100.000000</td>\n",
              "      <td>12.126500</td>\n",
              "      <td>24.000000</td>\n",
              "      <td>711.000000</td>\n",
              "      <td>22.000000</td>\n",
              "      <td>396.900000</td>\n",
              "      <td>37.970000</td>\n",
              "      <td>50.000000</td>\n",
              "      <td>NaN</td>\n",
              "      <td>NaN</td>\n",
              "      <td>NaN</td>\n",
              "      <td>NaN</td>\n",
              "      <td>NaN</td>\n",
              "    </tr>\n",
              "  </tbody>\n",
              "</table>\n",
              "</div>"
            ],
            "text/plain": [
              "             CRIM          ZN  ...  Unnamed: 17  Unnamed: 18\n",
              "count  506.000000  506.000000  ...          0.0          0.0\n",
              "mean     3.613524   11.363636  ...          NaN          NaN\n",
              "std      8.601545   23.322453  ...          NaN          NaN\n",
              "min      0.006320    0.000000  ...          NaN          NaN\n",
              "25%      0.082045    0.000000  ...          NaN          NaN\n",
              "50%      0.256510    0.000000  ...          NaN          NaN\n",
              "75%      3.677082   12.500000  ...          NaN          NaN\n",
              "max     88.976200  100.000000  ...          NaN          NaN\n",
              "\n",
              "[8 rows x 19 columns]"
            ]
          },
          "metadata": {
            "tags": []
          },
          "execution_count": 592
        }
      ]
    },
    {
      "cell_type": "code",
      "metadata": {
        "id": "RYre5eVWDCeM",
        "colab_type": "code",
        "colab": {
          "base_uri": "https://localhost:8080/",
          "height": 34
        },
        "outputId": "4b2867f8-ffe8-4c63-fb36-803585232b21"
      },
      "source": [
        "housing.shape"
      ],
      "execution_count": 593,
      "outputs": [
        {
          "output_type": "execute_result",
          "data": {
            "text/plain": [
              "(506, 19)"
            ]
          },
          "metadata": {
            "tags": []
          },
          "execution_count": 593
        }
      ]
    },
    {
      "cell_type": "code",
      "metadata": {
        "id": "nHnS3wpBPprA",
        "colab_type": "code",
        "colab": {}
      },
      "source": [
        "%matplotlib inline"
      ],
      "execution_count": 594,
      "outputs": []
    },
    {
      "cell_type": "code",
      "metadata": {
        "id": "qEveonu3Qi6S",
        "colab_type": "code",
        "colab": {
          "base_uri": "https://localhost:8080/",
          "height": 879
        },
        "outputId": "c4a899ed-d5e1-49c5-8a14-b8cdc022c81c"
      },
      "source": [
        "housing.hist(bins=50 , figsize=(20,15))\n",
        "plt.show()"
      ],
      "execution_count": 595,
      "outputs": [
        {
          "output_type": "display_data",
          "data": {
            "image/png": "[encoded data removed]",
            "text/plain": [
              "<Figure size 1440x1080 with 20 Axes>"
            ]
          },
          "metadata": {
            "tags": [],
            "needs_background": "light"
          }
        }
      ]
    },
    {
      "cell_type": "markdown",
      "metadata": {
        "id": "3fUGpWAJSJUm",
        "colab_type": "text"
      },
      "source": [
        "# Train Test Splitting "
      ]
    },
    {
      "cell_type": "code",
      "metadata": {
        "id": "DLfgqzTlSRxD",
        "colab_type": "code",
        "colab": {}
      },
      "source": [
        "import numpy as np\n",
        "import sklearn"
      ],
      "execution_count": 596,
      "outputs": []
    },
    {
      "cell_type": "code",
      "metadata": {
        "id": "bHrV56e8Sq7j",
        "colab_type": "code",
        "colab": {}
      },
      "source": [
        "#def split_train_test(data , test_ratio):\n",
        "  \n",
        " # np.random.seed(42)\n",
        "  #shuffled = np.random.permutation(len(data))\n",
        "  #print(shuffled)\n",
        "  #test_size_data = int(len(data)*test_ratio)\n",
        "  #test_indices = shuffled[:test_size_data]\n",
        "  #train_indices = shuffled[test_size_data:]\n",
        "  #return data.iloc[train_indices] , data.iloc[test_indices]"
      ],
      "execution_count": 597,
      "outputs": []
    },
    {
      "cell_type": "code",
      "metadata": {
        "id": "Y9Q4LuOnUScV",
        "colab_type": "code",
        "colab": {}
      },
      "source": [
        "#train_set , test_set = split_train_test(housing , 0.2)\n",
        "#print(f\"Rows in train set : {len(train_set)} and Rows in test set : {len(test_set)}\")"
      ],
      "execution_count": 598,
      "outputs": []
    },
    {
      "cell_type": "code",
      "metadata": {
        "id": "gZgIQb01WaEC",
        "colab_type": "code",
        "colab": {
          "base_uri": "https://localhost:8080/",
          "height": 34
        },
        "outputId": "1f43acde-e7fd-4e63-b740-9acc0ee7d900"
      },
      "source": [
        "from sklearn.model_selection import train_test_split\n",
        "#train_test_split?\n",
        "train_set , test_set = train_test_split(housing , test_size = 0.2 , random_state = 42)\n",
        "print(f\"Rows in train set : {len(train_set)} and Rows in test set : {len(test_set)}\")"
      ],
      "execution_count": 599,
      "outputs": [
        {
          "output_type": "stream",
          "text": [
            "Rows in train set : 404 and Rows in test set : 102\n"
          ],
          "name": "stdout"
        }
      ]
    },
    {
      "cell_type": "code",
      "metadata": {
        "id": "4OsnZJylYzzX",
        "colab_type": "code",
        "colab": {}
      },
      "source": [
        "from sklearn.model_selection import StratifiedShuffleSplit\n",
        "split = StratifiedShuffleSplit(n_splits=1 , test_size = 0.2 , random_state = 42)\n",
        "for train_index , test_index in split.split(housing , housing['CHAS']):\n",
        "  strat_train_set = housing.loc[train_index]\n",
        "  strat_test_set = housing.loc[test_index]"
      ],
      "execution_count": 600,
      "outputs": []
    },
    {
      "cell_type": "code",
      "metadata": {
        "id": "zD0b7HluaWZO",
        "colab_type": "code",
        "colab": {
          "base_uri": "https://localhost:8080/",
          "height": 68
        },
        "outputId": "87cfa52e-b812-490f-94d5-92050c889cbd"
      },
      "source": [
        "strat_test_set.describe()\n",
        "strat_test_set['CHAS'].value_counts()"
      ],
      "execution_count": 601,
      "outputs": [
        {
          "output_type": "execute_result",
          "data": {
            "text/plain": [
              "0    95\n",
              "1     7\n",
              "Name: CHAS, dtype: int64"
            ]
          },
          "metadata": {
            "tags": []
          },
          "execution_count": 601
        }
      ]
    },
    {
      "cell_type": "markdown",
      "metadata": {
        "id": "7mli-ky5bLuL",
        "colab_type": "text"
      },
      "source": [
        "## LOOKING FOR CORRELATIONS"
      ]
    },
    {
      "cell_type": "code",
      "metadata": {
        "id": "pUucaj5ZbPsf",
        "colab_type": "code",
        "colab": {}
      },
      "source": [
        "corr_matrix = housing.corr()"
      ],
      "execution_count": 602,
      "outputs": []
    },
    {
      "cell_type": "code",
      "metadata": {
        "id": "ZgOMC2JVbtJe",
        "colab_type": "code",
        "colab": {
          "base_uri": "https://localhost:8080/",
          "height": 357
        },
        "outputId": "a1150b7d-0d9e-41f1-c9f1-e8dabd7adfaf"
      },
      "source": [
        "corr_matrix['MEDV'].sort_values(ascending = False)\n",
        "# 1 is for strong positive correlation\n",
        "#if one value is increasing then other will also increase\n",
        "# -ve is for strong negative value correlation\n",
        "# if one value is increasing then other will decrease"
      ],
      "execution_count": 603,
      "outputs": [
        {
          "output_type": "execute_result",
          "data": {
            "text/plain": [
              "MEDV           1.000000\n",
              "RM             0.695360\n",
              "ZN             0.360445\n",
              "B              0.333461\n",
              "DIS            0.249929\n",
              "CHAS           0.175260\n",
              "AGE           -0.376955\n",
              "RAD           -0.381626\n",
              "CRIM          -0.388305\n",
              "NOX           -0.427321\n",
              "TAX           -0.468536\n",
              "INDUS         -0.483725\n",
              "PTRATIO       -0.507787\n",
              "LSTAT         -0.737663\n",
              "Unnamed: 14         NaN\n",
              "Unnamed: 15         NaN\n",
              "Unnamed: 16         NaN\n",
              "Unnamed: 17         NaN\n",
              "Unnamed: 18         NaN\n",
              "Name: MEDV, dtype: float64"
            ]
          },
          "metadata": {
            "tags": []
          },
          "execution_count": 603
        }
      ]
    },
    {
      "cell_type": "code",
      "metadata": {
        "id": "idWcTr6Rc7wW",
        "colab_type": "code",
        "colab": {
          "base_uri": "https://localhost:8080/",
          "height": 792
        },
        "outputId": "c3cc1dd2-8c07-40a0-af19-707306ba6870"
      },
      "source": [
        "from pandas.plotting import scatter_matrix\n",
        "attributes = [\"MEDV\" , \"RM\" , \"ZN\" , \"LSTAT\"] \n",
        "scatter_matrix(housing[attributes] , figsize = (12,8))\n"
      ],
      "execution_count": 604,
      "outputs": [
        {
          "output_type": "execute_result",
          "data": {
            "text/plain": [
              "array([[<matplotlib.axes._subplots.AxesSubplot object at 0x7f3fd52b0cf8>,\n",
              "        <matplotlib.axes._subplots.AxesSubplot object at 0x7f3fd5f5c588>,\n",
              "        <matplotlib.axes._subplots.AxesSubplot object at 0x7f3fd84d3eb8>,\n",
              "        <matplotlib.axes._subplots.AxesSubplot object at 0x7f3fd4a42d30>],\n",
              "       [<matplotlib.axes._subplots.AxesSubplot object at 0x7f3fd49f80f0>,\n",
              "        <matplotlib.axes._subplots.AxesSubplot object at 0x7f3fd4a11470>,\n",
              "        <matplotlib.axes._subplots.AxesSubplot object at 0x7f3fd49bc7f0>,\n",
              "        <matplotlib.axes._subplots.AxesSubplot object at 0x7f3fd49edb38>],\n",
              "       [<matplotlib.axes._subplots.AxesSubplot object at 0x7f3fd49edba8>,\n",
              "        <matplotlib.axes._subplots.AxesSubplot object at 0x7f3fd495e2b0>,\n",
              "        <matplotlib.axes._subplots.AxesSubplot object at 0x7f3fd49115f8>,\n",
              "        <matplotlib.axes._subplots.AxesSubplot object at 0x7f3fd48c1978>],\n",
              "       [<matplotlib.axes._subplots.AxesSubplot object at 0x7f3fd4875cf8>,\n",
              "        <matplotlib.axes._subplots.AxesSubplot object at 0x7f3fd48350b8>,\n",
              "        <matplotlib.axes._subplots.AxesSubplot object at 0x7f3fd4866438>,\n",
              "        <matplotlib.axes._subplots.AxesSubplot object at 0x7f3fd48197b8>]],\n",
              "      dtype=object)"
            ]
          },
          "metadata": {
            "tags": []
          },
          "execution_count": 604
        },
        {
          "output_type": "display_data",
          "data": {
            "image/png": "[encoded data removed]",
            "text/plain": [
              "<Figure size 864x576 with 16 Axes>"
            ]
          },
          "metadata": {
            "tags": [],
            "needs_background": "light"
          }
        }
      ]
    },
    {
      "cell_type": "code",
      "metadata": {
        "id": "XN-9HncR1qPX",
        "colab_type": "code",
        "colab": {
          "base_uri": "https://localhost:8080/",
          "height": 279
        },
        "outputId": "c8d9b19d-bdef-487c-91ab-fee444c1a7f3"
      },
      "source": [
        "housing.plot(kind = \"scatter\" , x = \"RM\" , y = \"MEDV\" , alpha = 0.5)\n",
        "plt.show()"
      ],
      "execution_count": 605,
      "outputs": [
        {
          "output_type": "display_data",
          "data": {
            "image/png": "[encoded data removed]",
            "text/plain": [
              "<Figure size 432x288 with 1 Axes>"
            ]
          },
          "metadata": {
            "tags": [],
            "needs_background": "light"
          }
        }
      ]
    },
    {
      "cell_type": "markdown",
      "metadata": {
        "id": "MB2VgQWz29k-",
        "colab_type": "text"
      },
      "source": [
        "## Trying out attributes combination\n"
      ]
    },
    {
      "cell_type": "code",
      "metadata": {
        "id": "ybrwZjal3Ffx",
        "colab_type": "code",
        "colab": {}
      },
      "source": [
        "#housing[\"TAXRM\"] = housing[\"TAX\"]/housing[\"RM\"]"
      ],
      "execution_count": 606,
      "outputs": []
    },
    {
      "cell_type": "code",
      "metadata": {
        "id": "FkVlJCDR3dlS",
        "colab_type": "code",
        "colab": {
          "base_uri": "https://localhost:8080/",
          "height": 204
        },
        "outputId": "d3fc4835-c4af-4ef7-fc08-4d9714249352"
      },
      "source": [
        "housing.head()"
      ],
      "execution_count": 607,
      "outputs": [
        {
          "output_type": "execute_result",
          "data": {
            "text/html": [
              "<div>\n",
              "<style scoped>\n",
              "    .dataframe tbody tr th:only-of-type {\n",
              "        vertical-align: middle;\n",
              "    }\n",
              "\n",
              "    .dataframe tbody tr th {\n",
              "        vertical-align: top;\n",
              "    }\n",
              "\n",
              "    .dataframe thead th {\n",
              "        text-align: right;\n",
              "    }\n",
              "</style>\n",
              "<table border=\"1\" class=\"dataframe\">\n",
              "  <thead>\n",
              "    <tr style=\"text-align: right;\">\n",
              "      <th></th>\n",
              "      <th>CRIM</th>\n",
              "      <th>ZN</th>\n",
              "      <th>INDUS</th>\n",
              "      <th>CHAS</th>\n",
              "      <th>NOX</th>\n",
              "      <th>RM</th>\n",
              "      <th>AGE</th>\n",
              "      <th>DIS</th>\n",
              "      <th>RAD</th>\n",
              "      <th>TAX</th>\n",
              "      <th>PTRATIO</th>\n",
              "      <th>B</th>\n",
              "      <th>LSTAT</th>\n",
              "      <th>MEDV</th>\n",
              "      <th>Unnamed: 14</th>\n",
              "      <th>Unnamed: 15</th>\n",
              "      <th>Unnamed: 16</th>\n",
              "      <th>Unnamed: 17</th>\n",
              "      <th>Unnamed: 18</th>\n",
              "    </tr>\n",
              "  </thead>\n",
              "  <tbody>\n",
              "    <tr>\n",
              "      <th>0</th>\n",
              "      <td>0.00632</td>\n",
              "      <td>18.0</td>\n",
              "      <td>2.31</td>\n",
              "      <td>0</td>\n",
              "      <td>0.538</td>\n",
              "      <td>6.575</td>\n",
              "      <td>65.2</td>\n",
              "      <td>4.0900</td>\n",
              "      <td>1</td>\n",
              "      <td>296</td>\n",
              "      <td>15.3</td>\n",
              "      <td>396.90</td>\n",
              "      <td>4.98</td>\n",
              "      <td>24.0</td>\n",
              "      <td>NaN</td>\n",
              "      <td>NaN</td>\n",
              "      <td>NaN</td>\n",
              "      <td>NaN</td>\n",
              "      <td>NaN</td>\n",
              "    </tr>\n",
              "    <tr>\n",
              "      <th>1</th>\n",
              "      <td>0.02731</td>\n",
              "      <td>0.0</td>\n",
              "      <td>7.07</td>\n",
              "      <td>0</td>\n",
              "      <td>0.469</td>\n",
              "      <td>6.421</td>\n",
              "      <td>78.9</td>\n",
              "      <td>4.9671</td>\n",
              "      <td>2</td>\n",
              "      <td>242</td>\n",
              "      <td>17.8</td>\n",
              "      <td>396.90</td>\n",
              "      <td>9.14</td>\n",
              "      <td>21.6</td>\n",
              "      <td>NaN</td>\n",
              "      <td>NaN</td>\n",
              "      <td>NaN</td>\n",
              "      <td>NaN</td>\n",
              "      <td>NaN</td>\n",
              "    </tr>\n",
              "    <tr>\n",
              "      <th>2</th>\n",
              "      <td>0.02729</td>\n",
              "      <td>0.0</td>\n",
              "      <td>7.07</td>\n",
              "      <td>0</td>\n",
              "      <td>0.469</td>\n",
              "      <td>7.185</td>\n",
              "      <td>61.1</td>\n",
              "      <td>4.9671</td>\n",
              "      <td>2</td>\n",
              "      <td>242</td>\n",
              "      <td>17.8</td>\n",
              "      <td>392.83</td>\n",
              "      <td>4.03</td>\n",
              "      <td>34.7</td>\n",
              "      <td>NaN</td>\n",
              "      <td>NaN</td>\n",
              "      <td>NaN</td>\n",
              "      <td>NaN</td>\n",
              "      <td>NaN</td>\n",
              "    </tr>\n",
              "    <tr>\n",
              "      <th>3</th>\n",
              "      <td>0.03237</td>\n",
              "      <td>0.0</td>\n",
              "      <td>2.18</td>\n",
              "      <td>0</td>\n",
              "      <td>0.458</td>\n",
              "      <td>6.998</td>\n",
              "      <td>45.8</td>\n",
              "      <td>6.0622</td>\n",
              "      <td>3</td>\n",
              "      <td>222</td>\n",
              "      <td>18.7</td>\n",
              "      <td>394.63</td>\n",
              "      <td>2.94</td>\n",
              "      <td>33.4</td>\n",
              "      <td>NaN</td>\n",
              "      <td>NaN</td>\n",
              "      <td>NaN</td>\n",
              "      <td>NaN</td>\n",
              "      <td>NaN</td>\n",
              "    </tr>\n",
              "    <tr>\n",
              "      <th>4</th>\n",
              "      <td>0.06905</td>\n",
              "      <td>0.0</td>\n",
              "      <td>2.18</td>\n",
              "      <td>0</td>\n",
              "      <td>0.458</td>\n",
              "      <td>7.147</td>\n",
              "      <td>54.2</td>\n",
              "      <td>6.0622</td>\n",
              "      <td>3</td>\n",
              "      <td>222</td>\n",
              "      <td>18.7</td>\n",
              "      <td>396.90</td>\n",
              "      <td>5.33</td>\n",
              "      <td>36.2</td>\n",
              "      <td>NaN</td>\n",
              "      <td>NaN</td>\n",
              "      <td>NaN</td>\n",
              "      <td>NaN</td>\n",
              "      <td>NaN</td>\n",
              "    </tr>\n",
              "  </tbody>\n",
              "</table>\n",
              "</div>"
            ],
            "text/plain": [
              "      CRIM    ZN  INDUS  ...  Unnamed: 16  Unnamed: 17  Unnamed: 18\n",
              "0  0.00632  18.0   2.31  ...          NaN          NaN          NaN\n",
              "1  0.02731   0.0   7.07  ...          NaN          NaN          NaN\n",
              "2  0.02729   0.0   7.07  ...          NaN          NaN          NaN\n",
              "3  0.03237   0.0   2.18  ...          NaN          NaN          NaN\n",
              "4  0.06905   0.0   2.18  ...          NaN          NaN          NaN\n",
              "\n",
              "[5 rows x 19 columns]"
            ]
          },
          "metadata": {
            "tags": []
          },
          "execution_count": 607
        }
      ]
    },
    {
      "cell_type": "code",
      "metadata": {
        "id": "I9KP1V6H3ucy",
        "colab_type": "code",
        "colab": {
          "base_uri": "https://localhost:8080/",
          "height": 357
        },
        "outputId": "b7dd13c1-99be-49ff-a58f-5ce631c5ab86"
      },
      "source": [
        "corr_matrix = housing.corr()\n",
        "corr_matrix['MEDV'].sort_values(ascending = False)"
      ],
      "execution_count": 608,
      "outputs": [
        {
          "output_type": "execute_result",
          "data": {
            "text/plain": [
              "MEDV           1.000000\n",
              "RM             0.695360\n",
              "ZN             0.360445\n",
              "B              0.333461\n",
              "DIS            0.249929\n",
              "CHAS           0.175260\n",
              "AGE           -0.376955\n",
              "RAD           -0.381626\n",
              "CRIM          -0.388305\n",
              "NOX           -0.427321\n",
              "TAX           -0.468536\n",
              "INDUS         -0.483725\n",
              "PTRATIO       -0.507787\n",
              "LSTAT         -0.737663\n",
              "Unnamed: 14         NaN\n",
              "Unnamed: 15         NaN\n",
              "Unnamed: 16         NaN\n",
              "Unnamed: 17         NaN\n",
              "Unnamed: 18         NaN\n",
              "Name: MEDV, dtype: float64"
            ]
          },
          "metadata": {
            "tags": []
          },
          "execution_count": 608
        }
      ]
    },
    {
      "cell_type": "code",
      "metadata": {
        "id": "yNrozNCi4QBj",
        "colab_type": "code",
        "colab": {}
      },
      "source": [
        "#housing.plot(kind = \"scatter\" , x = \"TAXRM\" , y = \"MEDV\" , alpha = 0.5)\n",
        "#plt.show()"
      ],
      "execution_count": 609,
      "outputs": []
    },
    {
      "cell_type": "code",
      "metadata": {
        "id": "ue7-2ppc5d0l",
        "colab_type": "code",
        "colab": {}
      },
      "source": [
        "## Missing Attributes "
      ],
      "execution_count": 610,
      "outputs": []
    },
    {
      "cell_type": "code",
      "metadata": {
        "id": "yw3lr-1n5hwG",
        "colab_type": "code",
        "colab": {
          "base_uri": "https://localhost:8080/",
          "height": 34
        },
        "outputId": "f7ce036c-dbb4-40a3-d6a4-732d219c7d91"
      },
      "source": [
        "a=housing.dropna(subset = [\"RM\"])\n",
        "a.shape"
      ],
      "execution_count": 611,
      "outputs": [
        {
          "output_type": "execute_result",
          "data": {
            "text/plain": [
              "(506, 19)"
            ]
          },
          "metadata": {
            "tags": []
          },
          "execution_count": 611
        }
      ]
    },
    {
      "cell_type": "code",
      "metadata": {
        "id": "cMbPELGmFmhG",
        "colab_type": "code",
        "colab": {}
      },
      "source": [
        "housing = strat_train_set.drop(\"MEDV\" , axis=1)\n",
        "housing_labels = strat_train_set[\"MEDV\"].copy()"
      ],
      "execution_count": 612,
      "outputs": []
    },
    {
      "cell_type": "markdown",
      "metadata": {
        "id": "gdeXRIYs-RnZ",
        "colab_type": "text"
      },
      "source": [
        "## Creating Pipeline"
      ]
    },
    {
      "cell_type": "code",
      "metadata": {
        "id": "JOhWFiuz-ZEr",
        "colab_type": "code",
        "colab": {}
      },
      "source": [
        "from sklearn.pipeline import Pipeline\n",
        "from sklearn.preprocessing import StandardScaler\n",
        "from sklearn.impute import SimpleImputer\n",
        "\n",
        "\n",
        "my_pipeline = Pipeline([\n",
        "  ('imputer' , SimpleImputer(strategy = \"median\")),\n",
        "  ('std_scalar' , StandardScaler()),\n",
        "])"
      ],
      "execution_count": 613,
      "outputs": []
    },
    {
      "cell_type": "code",
      "metadata": {
        "id": "EgWdiM_ZDyCF",
        "colab_type": "code",
        "colab": {
          "base_uri": "https://localhost:8080/",
          "height": 34
        },
        "outputId": "076780d4-d3d6-4d43-81b6-a50ddd4e24c0"
      },
      "source": [
        "housing.shape"
      ],
      "execution_count": 614,
      "outputs": [
        {
          "output_type": "execute_result",
          "data": {
            "text/plain": [
              "(404, 18)"
            ]
          },
          "metadata": {
            "tags": []
          },
          "execution_count": 614
        }
      ]
    },
    {
      "cell_type": "code",
      "metadata": {
        "id": "XNdL7S5YD1wo",
        "colab_type": "code",
        "colab": {
          "base_uri": "https://localhost:8080/",
          "height": 51
        },
        "outputId": "932d4ccb-6865-40ed-bfb9-478ddcda7182"
      },
      "source": [
        "print(train_set.shape)\n",
        "print(test_set.shape)"
      ],
      "execution_count": 615,
      "outputs": [
        {
          "output_type": "stream",
          "text": [
            "(404, 19)\n",
            "(102, 19)\n"
          ],
          "name": "stdout"
        }
      ]
    },
    {
      "cell_type": "code",
      "metadata": {
        "id": "zwH7sYWhBEWr",
        "colab_type": "code",
        "colab": {
          "base_uri": "https://localhost:8080/",
          "height": 238
        },
        "outputId": "9449402b-9e98-4384-fd9c-8d288a9cfeec"
      },
      "source": [
        "housing_num_tr = my_pipeline.fit_transform(housing)\n",
        "print(housing_num_tr)"
      ],
      "execution_count": 616,
      "outputs": [
        {
          "output_type": "stream",
          "text": [
            "[[-0.43942006  3.12628155 -1.12165014 ... -0.97491834  0.41164221\n",
            "  -0.86091034]\n",
            " [-0.44352175  3.12628155 -1.35893781 ... -0.69277865  0.39131918\n",
            "  -0.94116739]\n",
            " [ 0.15682292 -0.4898311   0.98336806 ...  0.81196637  0.44624347\n",
            "   0.81480158]\n",
            " ...\n",
            " [-0.43525657 -0.4898311  -1.23083158 ... -0.22254583  0.41831233\n",
            "  -1.27603303]\n",
            " [ 0.14210728 -0.4898311   0.98336806 ...  0.81196637 -3.15239177\n",
            "   0.73869575]\n",
            " [-0.43974024 -0.4898311   0.37049623 ... -0.97491834  0.41070422\n",
            "   0.09940681]]\n"
          ],
          "name": "stdout"
        }
      ]
    },
    {
      "cell_type": "code",
      "metadata": {
        "id": "j5GfFlg7C1gZ",
        "colab_type": "code",
        "colab": {
          "base_uri": "https://localhost:8080/",
          "height": 34
        },
        "outputId": "27a3d41b-d439-4182-975c-290049caf805"
      },
      "source": [
        "housing_num_tr.shape"
      ],
      "execution_count": 617,
      "outputs": [
        {
          "output_type": "execute_result",
          "data": {
            "text/plain": [
              "(404, 13)"
            ]
          },
          "metadata": {
            "tags": []
          },
          "execution_count": 617
        }
      ]
    },
    {
      "cell_type": "markdown",
      "metadata": {
        "id": "ONTzxkaOCsbm",
        "colab_type": "text"
      },
      "source": [
        "## Selection Of Model"
      ]
    },
    {
      "cell_type": "code",
      "metadata": {
        "id": "zubQtRVSCv_-",
        "colab_type": "code",
        "colab": {
          "base_uri": "https://localhost:8080/",
          "height": 136
        },
        "outputId": "cd3735e6-1d7e-4077-f24e-3230b21e4ba7"
      },
      "source": [
        "from sklearn.linear_model import  LinearRegression\n",
        "from sklearn.tree import DecisionTreeRegressor\n",
        "from sklearn.ensemble import RandomForestRegressor\n",
        "model = RandomForestRegressor()\n",
        "model.fit(housing_num_tr , housing_labels)"
      ],
      "execution_count": 618,
      "outputs": [
        {
          "output_type": "execute_result",
          "data": {
            "text/plain": [
              "RandomForestRegressor(bootstrap=True, ccp_alpha=0.0, criterion='mse',\n",
              "                      max_depth=None, max_features='auto', max_leaf_nodes=None,\n",
              "                      max_samples=None, min_impurity_decrease=0.0,\n",
              "                      min_impurity_split=None, min_samples_leaf=1,\n",
              "                      min_samples_split=2, min_weight_fraction_leaf=0.0,\n",
              "                      n_estimators=100, n_jobs=None, oob_score=False,\n",
              "                      random_state=None, verbose=0, warm_start=False)"
            ]
          },
          "metadata": {
            "tags": []
          },
          "execution_count": 618
        }
      ]
    },
    {
      "cell_type": "code",
      "metadata": {
        "id": "IgoTfXLAIH5L",
        "colab_type": "code",
        "colab": {}
      },
      "source": [
        "some_data = housing.iloc[:5]\n",
        "some_labels = housing_labels.iloc[:5]"
      ],
      "execution_count": 619,
      "outputs": []
    },
    {
      "cell_type": "code",
      "metadata": {
        "id": "2k0sUdqjIZAx",
        "colab_type": "code",
        "colab": {}
      },
      "source": [
        "prepared_data = my_pipeline.transform(some_data)"
      ],
      "execution_count": 620,
      "outputs": []
    },
    {
      "cell_type": "code",
      "metadata": {
        "id": "VcXjjTYJIjyH",
        "colab_type": "code",
        "colab": {
          "base_uri": "https://localhost:8080/",
          "height": 34
        },
        "outputId": "01fa9260-5a87-469b-d96c-f71a135edcae"
      },
      "source": [
        "model.predict(prepared_data)"
      ],
      "execution_count": 621,
      "outputs": [
        {
          "output_type": "execute_result",
          "data": {
            "text/plain": [
              "array([22.451, 25.494, 16.44 , 23.419, 23.608])"
            ]
          },
          "metadata": {
            "tags": []
          },
          "execution_count": 621
        }
      ]
    },
    {
      "cell_type": "code",
      "metadata": {
        "id": "TLzqAlVgIxAl",
        "colab_type": "code",
        "colab": {
          "base_uri": "https://localhost:8080/",
          "height": 34
        },
        "outputId": "bc73f343-6f17-4ffe-82ad-bd1bd46d6c56"
      },
      "source": [
        "list(some_labels)"
      ],
      "execution_count": 622,
      "outputs": [
        {
          "output_type": "execute_result",
          "data": {
            "text/plain": [
              "[21.9, 24.5, 16.7, 23.1, 23.0]"
            ]
          },
          "metadata": {
            "tags": []
          },
          "execution_count": 622
        }
      ]
    },
    {
      "cell_type": "code",
      "metadata": {
        "id": "Gcjf97lmKIBf",
        "colab_type": "code",
        "colab": {
          "base_uri": "https://localhost:8080/",
          "height": 34
        },
        "outputId": "c3f09e22-5e9b-4b61-e4a7-beaba049af41"
      },
      "source": [
        "from sklearn.metrics import mean_squared_error\n",
        "housing_predictions = model.predict(housing_num_tr)\n",
        "lin_mse = mean_squared_error(housing_labels , housing_predictions)\n",
        "lin_rmse = np.sqrt(lin_mse)\n",
        "lin_rmse"
      ],
      "execution_count": 623,
      "outputs": [
        {
          "output_type": "execute_result",
          "data": {
            "text/plain": [
              "1.2054620432115482"
            ]
          },
          "metadata": {
            "tags": []
          },
          "execution_count": 623
        }
      ]
    },
    {
      "cell_type": "code",
      "metadata": {
        "id": "--rLnn47M5-9",
        "colab_type": "code",
        "colab": {}
      },
      "source": [
        "##using better evaluation technique - cross validation\n",
        "\n",
        "from sklearn.model_selection import cross_val_score\n",
        "\n",
        "scores = cross_val_score(model , housing_num_tr , housing_labels , scoring=\"neg_mean_squared_error\" , cv=10)\n",
        "rmse_scores = np.sqrt(-scores)"
      ],
      "execution_count": 624,
      "outputs": []
    },
    {
      "cell_type": "code",
      "metadata": {
        "id": "wT6F1sjlO4uM",
        "colab_type": "code",
        "colab": {
          "base_uri": "https://localhost:8080/",
          "height": 51
        },
        "outputId": "415a69f7-431f-415e-afac-239bd2fa5a85"
      },
      "source": [
        "rmse_scores"
      ],
      "execution_count": 625,
      "outputs": [
        {
          "output_type": "execute_result",
          "data": {
            "text/plain": [
              "array([2.89537918, 2.79722113, 4.58894952, 2.78279656, 3.19344674,\n",
              "       2.59210812, 4.89915423, 3.38144161, 3.36593384, 3.3429476 ])"
            ]
          },
          "metadata": {
            "tags": []
          },
          "execution_count": 625
        }
      ]
    },
    {
      "cell_type": "code",
      "metadata": {
        "id": "HtK5NH0QPxcj",
        "colab_type": "code",
        "colab": {}
      },
      "source": [
        "def Print_score(scores):\n",
        "    print(\"scores : \" , scores)\n",
        "    print(\"Mean : \" , scores.mean())\n",
        "    print(\"Standard deviation : \" , scores.std())"
      ],
      "execution_count": 626,
      "outputs": []
    },
    {
      "cell_type": "code",
      "metadata": {
        "id": "PVzJvFnoQPao",
        "colab_type": "code",
        "colab": {
          "base_uri": "https://localhost:8080/",
          "height": 85
        },
        "outputId": "8e07e913-d586-42c4-cbdb-365c572005cd"
      },
      "source": [
        "Print_score(rmse_scores)"
      ],
      "execution_count": 627,
      "outputs": [
        {
          "output_type": "stream",
          "text": [
            "scores :  [2.89537918 2.79722113 4.58894952 2.78279656 3.19344674 2.59210812\n",
            " 4.89915423 3.38144161 3.36593384 3.3429476 ]\n",
            "Mean :  3.3839378532874975\n",
            "Standard deviation :  0.7319509887731857\n"
          ],
          "name": "stdout"
        }
      ]
    },
    {
      "cell_type": "code",
      "metadata": {
        "id": "neAqkJUQTDW5",
        "colab_type": "code",
        "colab": {
          "base_uri": "https://localhost:8080/",
          "height": 34
        },
        "outputId": "2d42d881-f55b-4481-c30b-1cdc7f66a05a"
      },
      "source": [
        "from joblib import dump , load\n",
        "dump(model , \"RealEstate.joblib\")"
      ],
      "execution_count": 628,
      "outputs": [
        {
          "output_type": "execute_result",
          "data": {
            "text/plain": [
              "['RealEstate.joblib']"
            ]
          },
          "metadata": {
            "tags": []
          },
          "execution_count": 628
        }
      ]
    },
    {
      "cell_type": "code",
      "metadata": {
        "id": "D3gvyx_fUYeC",
        "colab_type": "code",
        "colab": {
          "base_uri": "https://localhost:8080/",
          "height": 241
        },
        "outputId": "907453c6-63b9-42b4-f4df-1337b5945eb9"
      },
      "source": [
        "## TEsting of Data\n",
        "\n",
        "\n",
        "X_test = strat_test_set.drop(\"MEDV\" , axis = 1)\n",
        "Y_test = strat_test_set[\"MEDV\"].copy(0)\n",
        "X_test_prepared = my_pipeline.transform(X_test)\n",
        "final_predictions = model.predict(X_test_prepared)\n",
        "final_mse = mean_squared_error(Y_test , final_predictions)\n",
        "final_rmse = np.sqrt(final_mse)\n",
        "\n",
        "print(final_predictions , list(Y_test))\n",
        "\n",
        "\n",
        "final_rmse"
      ],
      "execution_count": 630,
      "outputs": [
        {
          "output_type": "stream",
          "text": [
            "[24.349 11.627 26.065 21.992 18.889 14.871 19.781 14.42  31.09  41.458\n",
            " 19.451 11.928 23.556 29.826 19.617 11.485 31.725 14.259 23.598 18.801\n",
            " 19.992 17.968 19.144 22.192 18.634 31.517 16.25  33.751  9.025 33.215\n",
            " 23.138 21.554 22.678 11.181 21.506 11.693 43.143 24.647 23.496 42.044\n",
            " 24.049 30.755 20.276 21.181 18.743 33.545 44.586 20.223 20.291 21.959\n",
            " 21.318 14.72  21.406 15.135 25.268 33.068 41.623 29.284 19.32  20.757\n",
            " 47.041  9.918 19.366 24.39  14.744 33.092 20.441 17.73  19.342 34.168\n",
            " 24.984 22.627 21.554 22.391 35.396 12.971 15.91  20.22  21.205 21.817\n",
            " 22.324 21.287 14.252 22.742 20.644 21.445 13.761 21.593 21.959 23.211\n",
            " 18.613 26.583  7.507 26.403 18.954 29.472 18.633 31.792 14.4   27.191\n",
            " 20.878 20.445] [16.5, 10.2, 30.1, 23.0, 14.4, 15.6, 19.4, 14.1, 30.3, 35.2, 23.1, 13.8, 25.0, 27.9, 19.5, 12.3, 32.2, 13.5, 23.8, 21.7, 19.2, 19.5, 10.4, 23.2, 18.6, 28.5, 15.2, 32.0, 7.2, 34.6, 20.1, 20.6, 23.6, 13.1, 23.8, 12.7, 43.1, 24.7, 22.2, 44.0, 28.1, 31.0, 21.7, 23.4, 19.5, 33.1, 41.7, 18.7, 19.9, 20.6, 21.2, 13.6, 20.3, 17.8, 27.1, 31.5, 50.0, 29.1, 18.9, 20.4, 50.0, 7.2, 17.2, 36.2, 14.6, 33.2, 23.8, 19.9, 21.5, 37.3, 27.0, 22.0, 24.3, 19.8, 33.3, 7.0, 19.4, 20.9, 21.1, 20.4, 22.2, 11.9, 11.7, 21.6, 19.7, 23.0, 16.7, 21.7, 20.6, 23.3, 19.6, 28.0, 5.0, 24.4, 20.8, 24.8, 21.8, 23.6, 19.0, 25.0, 20.3, 21.5]\n"
          ],
          "name": "stdout"
        },
        {
          "output_type": "execute_result",
          "data": {
            "text/plain": [
              "3.0348107654931193"
            ]
          },
          "metadata": {
            "tags": []
          },
          "execution_count": 630
        }
      ]
    }
  ]
}